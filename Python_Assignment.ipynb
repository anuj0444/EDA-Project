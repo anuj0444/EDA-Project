{
  "nbformat": 4,
  "nbformat_minor": 0,
  "metadata": {
    "colab": {
      "provenance": []
    },
    "kernelspec": {
      "name": "python3",
      "display_name": "Python 3"
    },
    "language_info": {
      "name": "python"
    }
  },
  "cells": [
    {
      "cell_type": "code",
      "execution_count": null,
      "metadata": {
        "colab": {
          "base_uri": "https://localhost:8080/"
        },
        "id": "WCy6qpWawNSd",
        "outputId": "a8dcf287-e82a-4f5d-8f25-150e96d6a80b"
      },
      "outputs": [
        {
          "output_type": "stream",
          "name": "stdout",
          "text": [
            "Expected Result: 2\n"
          ]
        }
      ],
      "source": [
        "def match_ends(words):\n",
        "    count = 0\n",
        "    for word in words:\n",
        "        if len(word) >= 2 and word[0] == word[-1]:\n",
        "            count += 1\n",
        "    return count\n",
        "\n",
        "# Sample input\n",
        "sample_list = ['abc', 'xyz', 'aba', '1221']\n",
        "\n",
        "# Function call and output\n",
        "result = match_ends(sample_list)\n",
        "print(\"Expected Result:\", result)"
      ]
    },
    {
      "cell_type": "code",
      "source": [
        "# Sample list of non-empty tuples\n",
        "sample_list = [(2, 5), (1, 2), (4, 4), (2, 3), (2, 1)]\n",
        "\n",
        "# Sort the list by the last element of each tuple using lambda\n",
        "sorted_list = sorted(sample_list, key=lambda x: x[-1])\n",
        "\n",
        "# Display the result\n",
        "print(\"Sorted list:\", sorted_list)\n"
      ],
      "metadata": {
        "colab": {
          "base_uri": "https://localhost:8080/"
        },
        "id": "OjM5xorHwRvt",
        "outputId": "bd06ef3b-1a6c-4e69-b0ab-7f757870c3f7"
      },
      "execution_count": null,
      "outputs": [
        {
          "output_type": "stream",
          "name": "stdout",
          "text": [
            "Sorted list: [(2, 1), (1, 2), (2, 3), (4, 4), (2, 5)]\n"
          ]
        }
      ]
    },
    {
      "cell_type": "code",
      "source": [
        "# Generate a 3x4x6 3D array filled with '*'\n",
        "array = [[['*' for _ in range(6)]\n",
        "          for _ in range(4)]\n",
        "          for _ in range(3)]\n",
        "\n",
        "# Display the result\n",
        "print(array)"
      ],
      "metadata": {
        "colab": {
          "base_uri": "https://localhost:8080/"
        },
        "id": "1TtBEflGwUyk",
        "outputId": "02ab35c9-50fb-498a-bdab-260936b7d1d6"
      },
      "execution_count": null,
      "outputs": [
        {
          "output_type": "stream",
          "name": "stdout",
          "text": [
            "[[['*', '*', '*', '*', '*', '*'], ['*', '*', '*', '*', '*', '*'], ['*', '*', '*', '*', '*', '*'], ['*', '*', '*', '*', '*', '*']], [['*', '*', '*', '*', '*', '*'], ['*', '*', '*', '*', '*', '*'], ['*', '*', '*', '*', '*', '*'], ['*', '*', '*', '*', '*', '*']], [['*', '*', '*', '*', '*', '*'], ['*', '*', '*', '*', '*', '*'], ['*', '*', '*', '*', '*', '*'], ['*', '*', '*', '*', '*', '*']]]\n"
          ]
        }
      ]
    },
    {
      "cell_type": "code",
      "source": [
        "sample_list = [0, 1, 2, 3, 4, 5]\n",
        "sample_list[::2], sample_list[1::2] = sample_list[1::2], sample_list[::2]\n",
        "print(\"Modified list:\", sample_list)\n"
      ],
      "metadata": {
        "colab": {
          "base_uri": "https://localhost:8080/"
        },
        "id": "YrT4ROVGwcL8",
        "outputId": "ddf07d13-625e-4d09-ec32-62c491932196"
      },
      "execution_count": null,
      "outputs": [
        {
          "output_type": "stream",
          "name": "stdout",
          "text": [
            "Modified list: [1, 0, 3, 2, 5, 4]\n"
          ]
        }
      ]
    },
    {
      "cell_type": "code",
      "source": [
        "# Input list and string\n",
        "list_items = [1, 2, 3, 4]\n",
        "prefix = 'emp'\n",
        "\n",
        "# Add the prefix to each element\n",
        "result = [prefix + str(item) for item in list_items]\n",
        "\n",
        "# Output result\n",
        "print(result)"
      ],
      "metadata": {
        "colab": {
          "base_uri": "https://localhost:8080/"
        },
        "id": "nk--S9zPwffi",
        "outputId": "1618c59b-2019-46b9-dd1e-f878c5f32198"
      },
      "execution_count": null,
      "outputs": [
        {
          "output_type": "stream",
          "name": "stdout",
          "text": [
            "['emp1', 'emp2', 'emp3', 'emp4']\n"
          ]
        }
      ]
    },
    {
      "cell_type": "code",
      "source": [
        "# Original list\n",
        "nums = [3, 4, 0, 0, 0, 6, 2, 0, 6, 7, 6, 0, 0, 0, 9, 10, 7, 4, 4, 5, 3, 0, 0, 2, 9, 7, 1]\n",
        "\n",
        "# Move non-zero numbers to front, then add zeros at end\n",
        "result = [num for num in nums if num != 0] + [0] * nums.count(0)\n",
        "\n",
        "# Output\n",
        "print(\"Original list:\")\n",
        "print(nums)\n",
        "print(\"\\nList after moving zero digits to the end:\")\n",
        "print(result)"
      ],
      "metadata": {
        "colab": {
          "base_uri": "https://localhost:8080/"
        },
        "id": "ZTr-PtuLwjNQ",
        "outputId": "500f64a4-f041-49ad-d31f-252b9878b05e"
      },
      "execution_count": null,
      "outputs": [
        {
          "output_type": "stream",
          "name": "stdout",
          "text": [
            "Original list:\n",
            "[3, 4, 0, 0, 0, 6, 2, 0, 6, 7, 6, 0, 0, 0, 9, 10, 7, 4, 4, 5, 3, 0, 0, 2, 9, 7, 1]\n",
            "\n",
            "List after moving zero digits to the end:\n",
            "[3, 4, 6, 2, 6, 7, 6, 9, 10, 7, 4, 4, 5, 3, 2, 9, 7, 1, 0, 0, 0, 0, 0, 0, 0, 0, 0]\n"
          ]
        }
      ]
    },
    {
      "cell_type": "code",
      "source": [
        "# Original list\n",
        "items = ['abcd', 'abc', 'bcd', 'bkie', 'cder', 'cdsw', 'sdfsd', 'dagfa', 'acjd']\n",
        "\n",
        "# Function to filter items starting with a given character\n",
        "def items_start_with(char, item_list):\n",
        "    return [item for item in item_list if item.startswith(char)]\n",
        "\n",
        "# Test cases\n",
        "print(\"Original list:\")\n",
        "print(items)\n",
        "\n",
        "print(\"\\nItems start with 'a':\")\n",
        "print(items_start_with('a', items))\n",
        "\n",
        "print(\"\\nItems start with 'd':\")\n",
        "print(items_start_with('d', items))\n",
        "\n",
        "print(\"\\nItems start with 'w':\")\n",
        "print(items_start_with('w', items))"
      ],
      "metadata": {
        "id": "pZl-VZcwwo5C",
        "outputId": "60e4e3e3-d44a-45d1-c1f1-11650e19b9a8",
        "colab": {
          "base_uri": "https://localhost:8080/"
        }
      },
      "execution_count": null,
      "outputs": [
        {
          "output_type": "stream",
          "name": "stdout",
          "text": [
            "Original list:\n",
            "['abcd', 'abc', 'bcd', 'bkie', 'cder', 'cdsw', 'sdfsd', 'dagfa', 'acjd']\n",
            "\n",
            "Items start with 'a':\n",
            "['abcd', 'abc', 'acjd']\n",
            "\n",
            "Items start with 'd':\n",
            "['dagfa']\n",
            "\n",
            "Items start with 'w':\n",
            "[]\n"
          ]
        }
      ]
    },
    {
      "cell_type": "code",
      "source": [],
      "metadata": {
        "id": "jGlWDH1nwqz2"
      },
      "execution_count": null,
      "outputs": []
    }
  ]
}